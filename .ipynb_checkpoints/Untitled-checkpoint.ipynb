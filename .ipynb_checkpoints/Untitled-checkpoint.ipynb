{
 "cells": [
  {
   "cell_type": "code",
   "execution_count": null,
   "id": "72ea586e",
   "metadata": {},
   "outputs": [],
   "source": [
    "def rectangle_area():\n",
    "    length = float(input(\"Enter the length of a house: \"))\n",
    "    width = float(input(\"Enter the width of a house: \" ))\n",
    "    area = length * width\n",
    "    print(\"The square footage of the house is\", float(area) ,\"sq.ft.\")\n",
    "    \n",
    "rectangle_area()"
   ]
  },
  {
   "cell_type": "code",
   "execution_count": null,
   "id": "d85cdc7f",
   "metadata": {},
   "outputs": [],
   "source": [
    "def radius(r):\n",
    "        r = float(input(\"Enter the radius of a circle: \"))\n",
    "        print(r)\n",
    "\n",
    "radius()"
   ]
  },
  {
   "cell_type": "code",
   "execution_count": 18,
   "id": "0cf17ffc",
   "metadata": {},
   "outputs": [
    {
     "ename": "TypeError",
     "evalue": "circumference_cal() missing 1 required positional argument: 'c'",
     "output_type": "error",
     "traceback": [
      "\u001b[0;31m---------------------------------------------------------------------------\u001b[0m",
      "\u001b[0;31mTypeError\u001b[0m                                 Traceback (most recent call last)",
      "Input \u001b[0;32mIn [18]\u001b[0m, in \u001b[0;36m<cell line: 7>\u001b[0;34m()\u001b[0m\n\u001b[1;32m      5\u001b[0m     \u001b[38;5;66;03m# return 2 * pi * r\u001b[39;00m\n\u001b[1;32m      6\u001b[0m     \u001b[38;5;28mprint\u001b[39m(\u001b[38;5;124m\"\u001b[39m\u001b[38;5;124mThe circumference of a circle is\u001b[39m\u001b[38;5;124m\"\u001b[39m \u001b[38;5;241m+\u001b[39m \u001b[38;5;28mfloat\u001b[39m(c))\n\u001b[0;32m----> 7\u001b[0m \u001b[43mcircumference_cal\u001b[49m\u001b[43m(\u001b[49m\u001b[43m)\u001b[49m\n",
      "\u001b[0;31mTypeError\u001b[0m: circumference_cal() missing 1 required positional argument: 'c'"
     ]
    }
   ],
   "source": [
    "def circumference_cal(c):\n",
    "    pi = 3.14\n",
    "    r = float(input(\"Enter the radius of a circle: \"))\n",
    "    c == 2 * pi * r\n",
    "    # return 2 * pi * r\n",
    "    print(\"The circumference of a circle is\" + float(c))\n",
    "circumference_cal()"
   ]
  },
  {
   "cell_type": "code",
   "execution_count": 34,
   "id": "bbdeec43",
   "metadata": {},
   "outputs": [
    {
     "ename": "TypeError",
     "evalue": "rectangle_area() missing 1 required positional argument: 'area'",
     "output_type": "error",
     "traceback": [
      "\u001b[0;31m---------------------------------------------------------------------------\u001b[0m",
      "\u001b[0;31mTypeError\u001b[0m                                 Traceback (most recent call last)",
      "Input \u001b[0;32mIn [34]\u001b[0m, in \u001b[0;36m<cell line: 7>\u001b[0;34m()\u001b[0m\n\u001b[1;32m      4\u001b[0m     area \u001b[38;5;241m==\u001b[39m length \u001b[38;5;241m*\u001b[39m width\n\u001b[1;32m      5\u001b[0m     \u001b[38;5;28mprint\u001b[39m(\u001b[38;5;124m\"\u001b[39m\u001b[38;5;124mThe square footage of the house is\u001b[39m\u001b[38;5;124m\"\u001b[39m \u001b[38;5;241m+\u001b[39m \u001b[38;5;28mstr\u001b[39m(area) \u001b[38;5;241m+\u001b[39m \u001b[38;5;124m\"\u001b[39m\u001b[38;5;124msquare feet. \u001b[39m\u001b[38;5;124m\"\u001b[39m)\n\u001b[0;32m----> 7\u001b[0m \u001b[43mrectangle_area\u001b[49m\u001b[43m(\u001b[49m\u001b[43m)\u001b[49m\n",
      "\u001b[0;31mTypeError\u001b[0m: rectangle_area() missing 1 required positional argument: 'area'"
     ]
    }
   ],
   "source": [
    "def rectangle_area(area):\n",
    "    length = float(input(\"Enter the length of a house: \"))\n",
    "    width = float(input(\"Enter the width of a house:\" ))\n",
    "    area == length * width\n",
    "    print(\"The square footage of the house is\" + str(area) + \"square feet. \")\n",
    "    \n",
    "rectangle_area()"
   ]
  },
  {
   "cell_type": "code",
   "execution_count": 16,
   "id": "25de67f1",
   "metadata": {},
   "outputs": [],
   "source": [
    "# def printName(name):\n",
    "#     print(f\"Hello Mr/Ms {name}...we've been waiting for you!\")\n",
    "\n",
    "\n",
    "# 1) Has a function to calculate the square footage of a house\n",
    "# Reminder of Formula: Length X Width == Area\n",
    "\n",
    "def rectangle_area(area):\n",
    "    length = float(input(\"Enter the length of a house: \")\n",
    "    width = float(input(\"Enter the width of a house:\" ))\n",
    "    # return length ** width\n",
    "    if area == length ** width:\n",
    "        print(\"The square footage of a house is \" + float(area) + \" sq. ft.\")\n",
    "\n",
    "# input =  Enter the length & the width of your hourse\n",
    "# output = the house is ... sq. ft.\n",
    "\n",
    "# example output:  The square footage of a room 15 feet wide and 15 feet long is 225 square feet. \n",
    "\n",
    "\n",
    "\n",
    "\n",
    "# 2) Has a function to calculate the circumference of a circle\n",
    "\n",
    "# Program in Jupyter Notebook should take in user input and use imported functions to calculate a circle's circumference or a houses square footage\n",
    "# 2 * pi * r\n",
    "\n",
    "\n",
    "# def circumference_cal(c):\n",
    "#     pi = 3.14\n",
    "#     r = float(input(\"Enter the radius of a circle: \"))\n",
    "#     c == 2 * pi * r\n",
    "#     # return 2 * pi * r\n",
    "#     print(\"The circumference of a circle is\" + float(c))\n",
    "\n",
    "# input = Enter the radius of a circle:    \n",
    "# output = The circumference of a circle is ....\n",
    "\n",
    "# Note: (from doc_name import module_name)\n"
   ]
  },
  {
   "cell_type": "code",
   "execution_count": null,
   "id": "8527eb97",
   "metadata": {},
   "outputs": [],
   "source": []
  },
  {
   "cell_type": "code",
   "execution_count": null,
   "id": "f9dd3581",
   "metadata": {},
   "outputs": [],
   "source": []
  }
 ],
 "metadata": {
  "kernelspec": {
   "display_name": "Python 3 (ipykernel)",
   "language": "python",
   "name": "python3"
  },
  "language_info": {
   "codemirror_mode": {
    "name": "ipython",
    "version": 3
   },
   "file_extension": ".py",
   "mimetype": "text/x-python",
   "name": "python",
   "nbconvert_exporter": "python",
   "pygments_lexer": "ipython3",
   "version": "3.9.12"
  }
 },
 "nbformat": 4,
 "nbformat_minor": 5
}
